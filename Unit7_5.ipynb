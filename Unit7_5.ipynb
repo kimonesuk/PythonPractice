{
  "nbformat": 4,
  "nbformat_minor": 0,
  "metadata": {
    "colab": {
      "name": "Unit7_5.ipynb",
      "version": "0.3.2",
      "provenance": [],
      "include_colab_link": true
    },
    "kernelspec": {
      "name": "python3",
      "display_name": "Python 3"
    }
  },
  "cells": [
    {
      "cell_type": "markdown",
      "metadata": {
        "id": "view-in-github",
        "colab_type": "text"
      },
      "source": [
        "<a href=\"https://colab.research.google.com/github/kimonesuk/pythondojang/blob/master/Unit7_5.ipynb\" target=\"_parent\"><img src=\"https://colab.research.google.com/assets/colab-badge.svg\" alt=\"Open In Colab\"/></a>"
      ]
    },
    {
      "metadata": {
        "id": "vPce6mI6UgpI",
        "colab_type": "code",
        "colab": {
          "base_uri": "https://localhost:8080/",
          "height": 52
        },
        "outputId": "a621bf1d-bd6b-408e-a1ce-5f4832a46d45"
      },
      "cell_type": "code",
      "source": [
        "year, month, day, hour, minute, second = input().split()\n",
        "\n",
        "print(year, month, day, sep='-', end='T')\n",
        "print(hour, minute, second, sep=':')"
      ],
      "execution_count": 2,
      "outputs": [
        {
          "output_type": "stream",
          "text": [
            "2017 10 27 11 43 59\n",
            "2017-10-27T11:43:59\n"
          ],
          "name": "stdout"
        }
      ]
    }
  ]
}