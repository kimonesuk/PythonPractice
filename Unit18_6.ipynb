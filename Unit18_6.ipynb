{
  "nbformat": 4,
  "nbformat_minor": 0,
  "metadata": {
    "colab": {
      "name": "Unit18_6.ipynb",
      "version": "0.3.2",
      "provenance": [],
      "include_colab_link": true
    },
    "kernelspec": {
      "name": "python3",
      "display_name": "Python 3"
    }
  },
  "cells": [
    {
      "cell_type": "markdown",
      "metadata": {
        "id": "view-in-github",
        "colab_type": "text"
      },
      "source": [
        "<a href=\"https://colab.research.google.com/github/kimonesuk/pythondojang/blob/master/Unit18_6.ipynb\" target=\"_parent\"><img src=\"https://colab.research.google.com/assets/colab-badge.svg\" alt=\"Open In Colab\"/></a>"
      ]
    },
    {
      "metadata": {
        "id": "waej7TijMFUH",
        "colab_type": "code",
        "colab": {
          "base_uri": "https://localhost:8080/",
          "height": 53
        },
        "outputId": "faf01f21-ce99-4347-ea41-b7129ea47592"
      },
      "cell_type": "code",
      "source": [
        "start, stop = map(int, input().split())\n",
        "\n",
        "i = start\n",
        "\n",
        "while True:\n",
        "  if i % 10 == 3:\n",
        "    i += 1\n",
        "    continue\n",
        "  if i > stop:\n",
        "    break\n",
        "  print(i, end=' ')\n",
        "  i += 1"
      ],
      "execution_count": 9,
      "outputs": [
        {
          "output_type": "stream",
          "text": [
            "21 33\n",
            "21 22 24 25 26 27 28 29 30 31 32 "
          ],
          "name": "stdout"
        }
      ]
    }
  ]
}