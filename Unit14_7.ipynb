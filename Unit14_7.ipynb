{
  "nbformat": 4,
  "nbformat_minor": 0,
  "metadata": {
    "colab": {
      "name": "Unit14_7.ipynb",
      "version": "0.3.2",
      "provenance": [],
      "include_colab_link": true
    },
    "kernelspec": {
      "name": "python3",
      "display_name": "Python 3"
    }
  },
  "cells": [
    {
      "cell_type": "markdown",
      "metadata": {
        "id": "view-in-github",
        "colab_type": "text"
      },
      "source": [
        "<a href=\"https://colab.research.google.com/github/kimonesuk/pythondojang/blob/master/Unit14_7.ipynb\" target=\"_parent\"><img src=\"https://colab.research.google.com/assets/colab-badge.svg\" alt=\"Open In Colab\"/></a>"
      ]
    },
    {
      "metadata": {
        "id": "kdWU33Vz3IYH",
        "colab_type": "code",
        "colab": {
          "base_uri": "https://localhost:8080/",
          "height": 53
        },
        "outputId": "854c474e-07dd-4f47-9f5a-218d28fac7b8"
      },
      "cell_type": "code",
      "source": [
        "Korean, English, Math, Science = map(int,input().split())\n",
        "avg = (Korean + English + Math + Science)/4\n",
        "if 0 <= Korean <=100 and 0 <= English <= 100 and 0 <= Math <= 100 and 0 <= Science <= 100 :\n",
        "  if avg >= 80 :\n",
        "    print('합격')\n",
        "  else :\n",
        "    print('불합격')\n",
        "else :\n",
        "  print('잘못된 점수')"
      ],
      "execution_count": 8,
      "outputs": [
        {
          "output_type": "stream",
          "text": [
            "100 79 68 71\n",
            "잘못된 점수\n"
          ],
          "name": "stdout"
        }
      ]
    }
  ]
}