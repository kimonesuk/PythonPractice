{
 "metadata": {
  "language_info": {
   "codemirror_mode": {
    "name": "ipython",
    "version": 3
   },
   "file_extension": ".py",
   "mimetype": "text/x-python",
   "name": "python",
   "nbconvert_exporter": "python",
   "pygments_lexer": "ipython3",
   "version": "3.9.4-final"
  },
  "orig_nbformat": 2,
  "kernelspec": {
   "name": "python3",
   "display_name": "Python 3",
   "language": "python"
  }
 },
 "nbformat": 4,
 "nbformat_minor": 2,
 "cells": [
  {
   "source": [
    "# Unit. 1 소프트웨어 교육과 파이썬\n",
    "\n",
    "## 복잡한 문제는 어떻게 접근해야하는가?   \n",
    "\n",
    "복잡한 문제는 다룰 수 있는 작은 문제로 분해해서 접근해야 한다.   \n",
    "예를 들어 자율 주행 시스템을 만들고자 하면 **주변 상황을 인식**하기 위해 카메라와 센서를 장착해야하며, 각종 **제어 장치**를 만들어 사람 없이 주행하도록 해야한다. 다음으로 주변 상황 정보, GPS 정보, 지도 정보 등을 이용해서 **자동으로 운전하는 소프트웨어**를 만들어야 한다.   \n",
    "> 자율 주행 시스템 = 상황 정보 인식 + 제어 장치 + 정보 기반 운전\n",
    "\n",
    "## 컴퓨터적 사고란?\n",
    "\n",
    "이렇게 현실 세계의 문제를 분석해서 해결책을 찾는 과학적 사고법을 컴퓨터적 사고(Computational thinking)이라 한다.   \n",
    "즉, 작은 문제로 분해하고, 문제의 패턴을 발견하고, 어떤 데이터를 이용해야하는지 결정하고, 문제를 일반화하고 모델링할 수 있는지 찾는 과정이다.\n",
    "> 컴퓨터적 사고 : 분해 > 패턴인식 > 추상화 > 알고리즘\n",
    "\n",
    "## 알고리즘이란?\n",
    "\n",
    "문제에서 일정한 패턴을 발견하고 패턴을 토대로 문제를 해결하는 절차\n",
    "\n",
    "## 파이썬의 특징\n",
    "* 쉽고 간단한 문법, 배우기 쉬움\n",
    "* 객체 지향\n",
    "* 다양한 패키지(특히 데이터 분석, ML 라이브러리/패키지가 풍부)\n",
    "* 오픈 소스, 무료"
   ],
   "cell_type": "markdown",
   "metadata": {}
  },
  {
   "source": [
    "# Unit. 2 파이썬 설치하기\n",
    "\n",
    "[파이썬 코딩 도장 참고](https://dojang.io/mod/page/view.php?id=2155)"
   ],
   "cell_type": "markdown",
   "metadata": {}
  },
  {
   "source": [
    "# Unit. 3 Hello World!\n",
    "\n",
    "## 문자열 출력\n",
    "``` python\n",
    "print(\"Hello, World!\")\n",
    "```\n",
    "Hello, world!"
   ],
   "cell_type": "markdown",
   "metadata": {}
  },
  {
   "cell_type": "code",
   "execution_count": 1,
   "metadata": {},
   "outputs": [
    {
     "output_type": "stream",
     "name": "stdout",
     "text": [
      "Hello, World!\n"
     ]
    }
   ],
   "source": [
    "print(\"Hello, World!\")"
   ]
  },
  {
   "source": [
    "## 연습 문제\n",
    "'Hello, world!'와 'Python Programming'이 각 줄에 출력되게 만드세요."
   ],
   "cell_type": "markdown",
   "metadata": {}
  },
  {
   "cell_type": "code",
   "execution_count": 3,
   "metadata": {},
   "outputs": [
    {
     "output_type": "stream",
     "name": "stdout",
     "text": [
      "Hello, world!\nPython Programming\nHello, world!\nPython Programming\n"
     ]
    }
   ],
   "source": [
    "print(\"Hello, world!\")\n",
    "print(\"Python Programming\")\n",
    "print(\"Hello, world!\\nPython Programming\")"
   ]
  },
  {
   "source": [
    "# Unit. 4 기본 문법\n",
    "\n",
    "## 1. 세미콜론\n",
    "파이썬은 구문 끝에 ;(세미콜론)을 붙이지 않아도 된다.   \n",
    "다만 붙여도 문법 에러는 발생하지않는다. 때문에 한 줄에 여러 구문을 쓰는 경우 구분할때 사용한다.\n",
    "\n",
    "## 2. 주석\n",
    "### 1. 한 줄 주석\n",
    "``` python\n",
    "# 한 줄 주석\n",
    "```\n",
    "### 2. 블록 주석\n",
    "```\n",
    "\"\"\" \n",
    "    ~    \n",
    "        \"\"\"\n",
    "''' \n",
    "    ~\n",
    "        '''\n",
    "```\n",
    "### 3. vscode 단축키\n",
    "Command + /\n",
    "\n",
    "## 3. 들여쓰기\n",
    "파이썬은 들여쓰기로 코드블록을 구분한다.   \n",
    "따라서 약속된 문법에 맞춰 적절한 들여쓰기를 해야한다(예 : if문 다음 구문은 들여쓰기를 해야한다)   \n",
    "같은 블록인 경우 같은 들여쓰기 칸 수를 사용해야한다."
   ],
   "cell_type": "markdown",
   "metadata": {}
  },
  {
   "source": [
    "# Unit. 5 숫자 계산하기\n",
    "## 1. 정수 계산하기\n",
    "### 1. 사칙연산\n",
    "* +, -, *\n",
    "* /(파이썬2 : 정수끼리의 결과는 정수 파이썬3 : 나눗셈의 결과는 실수)\n",
    "* // (소수점 무시)\n",
    "* % (나머지)\n",
    "* ** (거듭제곱)\n",
    "* int(숫자, 계산식, '문자열') (정수 형변환)\n",
    "* type(값) (객체의 자료형 반환)\n",
    "* divmod(피제수, 제수) (몫, 나머지)\n",
    "\n",
    "## 2. 실수 계산하기\n",
    "* 실수 +-*/ 정수 = 실수 (범위가 작은 자료형과 큰 자료형을 연산하면 결과는 큰 자료형)\n",
    "* float(값) (객체의 자료형 변환)\n",
    "* complex(실수부, 허수부)\n",
    "\n",
    "## 3. 괄호 사용하기\n",
    "* 괄호 > 연산자 우선순위\n",
    "\n",
    "## 연습문제 : 아파트에서 소음이 가장 심한 층수 출력 (정수출력)(도로와의 거리 : 12m)\n",
    "> 0.2467 * 도로와의 거리(m) + 4.159"
   ],
   "cell_type": "markdown",
   "metadata": {}
  },
  {
   "cell_type": "code",
   "execution_count": 4,
   "metadata": {},
   "outputs": [
    {
     "output_type": "stream",
     "name": "stdout",
     "text": [
      "7\n"
     ]
    }
   ],
   "source": [
    "print(int(0.2467 * 12 + 4.159))"
   ]
  },
  {
   "source": [
    "# Unit. 6 변수와 입력 사용하기\n",
    "## 1. 변수 만들기\n",
    "`변수이름 = 값`\n",
    "\n",
    "* 변수 생성 규칙\n",
    "    + 영문 문자와 숫자만 사용\n",
    "    + 대소문자 구분\n",
    "    + 문자부터 시작(숫자부터 시작하면 안됨)\n",
    "    + _(언더바)로 시작가능\n",
    "    + 특수문자(+, -, *, /, $, @, &, % 등) 사용불가\n",
    "    + 파이썬키워드(if, for, while, and, or 등) 사용불가\n",
    "* 여러개 할당하기   \n",
    "`x, y, z = 10, 20, 30`   \n",
    "`x = y = z = 10`\n",
    "* 변수 삭제하기   \n",
    "    `del x`   \n",
    "* 빈 변수   \n",
    "    `x = None`   \n",
    "    파이썬에서 None은 아무것도 없는 것(다른 언어 널(Null))\n",
    "\n",
    "## 2. 변수로 계산하기\n",
    "\n",
    "\n",
    "## 3. 입력 값을 변수에 저장하기\n",
    "`input(\"msg\")` 사용자 입력값 가져오는 함수   \n",
    "    * input으로 전달받은 값은 **문자열(str)**\n",
    "``` python\n",
    "string = input(\"문자를 입력하세요\")\n",
    "print(string)\n",
    "```"
   ],
   "cell_type": "markdown",
   "metadata": {}
  },
  {
   "cell_type": "code",
   "execution_count": 5,
   "metadata": {},
   "outputs": [
    {
     "output_type": "stream",
     "name": "stdout",
     "text": [
      "HelloWorld!\n"
     ]
    }
   ],
   "source": [
    "string = input(\"문자를 입력하세요\")\n",
    "print(string)"
   ]
  },
  {
   "source": [
    "\n",
    "## 4. 입력 값을 변수 두 개에 저장하기\n",
    "`변수1, 변수2, ... = input().split(\"기준문자열\")`   \n",
    "`정수1, 정수2, ... = map(int, input().split())`\n",
    "\n",
    "## 연습문제 : 정수 세 개를 입력받고 합계 출력하기"
   ],
   "cell_type": "markdown",
   "metadata": {}
  },
  {
   "cell_type": "code",
   "execution_count": 1,
   "metadata": {},
   "outputs": [
    {
     "output_type": "stream",
     "name": "stdout",
     "text": [
      "60\n"
     ]
    }
   ],
   "source": [
    "a, b, c = map(int, input().split())\n",
    "print(a + b + c)"
   ]
  },
  {
   "source": [
    "# Unit. 7 출력 방법 알아보기\n",
    "\n",
    "## 1. sep로 값 사이에 문자 넣기\n",
    "`print(1, 2, 3, sep=', ')`   \n",
    "1, 2, 3   \n",
    "`print(4, 5, 6, sep=', ')`   \n",
    "4,5,6   \n",
    "`print(1920, 1080 sep='X')`   \n",
    "1920X1080   \n",
    "\n",
    "## 2. 줄바꿈 활용하기\n",
    "`print(1, 2, 3, sep='\\n')`   \n",
    "1   \n",
    "2   \n",
    "3   \n",
    "`print(1, end='문자 or 문자열')`   \n",
    "1문자 or 문자열\n",
    "\n",
    "## 연습문제 : 날짜와 시간 출력하기\n",
    "> 2000/10/27 11:43:59"
   ],
   "cell_type": "markdown",
   "metadata": {}
  },
  {
   "cell_type": "code",
   "execution_count": 2,
   "metadata": {},
   "outputs": [
    {
     "output_type": "stream",
     "name": "stdout",
     "text": [
      "2000/10/27 11:43:59\n"
     ]
    }
   ],
   "source": [
    "year = 2000\n",
    "month = 10\n",
    "day = 27\n",
    "hour = 11\n",
    "minute = 43\n",
    "second = 59\n",
    " \n",
    "print(year, month, day, sep='/', end=' ')\n",
    "print(hour, minute, second, sep=':')"
   ]
  },
  {
   "source": [
    "# Unit. 8 불과 비교, 논리 연산자 알아보기\n",
    "\n",
    "## 1. 비교, 논리 연산자의 판단 결과\n",
    "파이썬에서는 비교, 논리 연산자의 판단 결과는 불린(True, False)이다.\n",
    "\n",
    "## 2. 비교 연산자\n",
    "* 숫자, 문자열 비교 : ==, !=\n",
    "* 부등호 : >, <, >=, <= (숫자)\n",
    "* 객체 비교 : is, is not (값이 아닌 객체비교)\n",
    "\n",
    "## 3. 논리 연산자\n",
    "* and\n",
    "* or\n",
    "* not\n",
    "* bool(값) : 0 이외에는 True, 0은 False\n",
    "\n",
    "## 연습문제 : 합격 여부 출력하기\n",
    "한 과목이라도 50점 미만이면 불합격   \n",
    "합격 : True, 불합격 : False"
   ],
   "cell_type": "markdown",
   "metadata": {}
  },
  {
   "cell_type": "code",
   "execution_count": 3,
   "metadata": {},
   "outputs": [
    {
     "output_type": "stream",
     "name": "stdout",
     "text": [
      "False\n"
     ]
    }
   ],
   "source": [
    "korean = 92\n",
    "english = 47\n",
    "mathematics = 86\n",
    "science = 81\n",
    " \n",
    "print(korean >= 50 and english >= 50 and mathematics >= 50 and science >= 50)"
   ]
  },
  {
   "source": [
    "# Unit. 9 문자열 사용하기\n",
    "## 1. 여러 줄 문자열\n",
    "'''   \n",
    "    ~   \n",
    "        '''   \n",
    "\"\"\"   \n",
    "    ~   \n",
    "        \"\"\"   \n",
    "``` python\n",
    "hello = '''Hello, world!\n",
    "안녕하세요.\n",
    "python!.'''\n",
    "```\n",
    "\n",
    "## 2. 작은따옴표, 큰따옴표 포함\n",
    "* 큰 따옴표를 넣고 싶으면 문자열을 작은 따음표\n",
    "* 작은 따음표를 넣고 싶으면 문자열을 큰 따옴표\n",
    "* 역슬래시 (예 : \\' \\\")\n",
    "\n",
    "## 연습문제 : 여러 줄로 된 문자열 사용하기\n",
    "Python is a programming language that lets you work quickly   \n",
    "and   \n",
    "integrate systems more effectively.   "
   ],
   "cell_type": "markdown",
   "metadata": {}
  },
  {
   "cell_type": "code",
   "execution_count": 4,
   "metadata": {},
   "outputs": [
    {
     "output_type": "stream",
     "name": "stdout",
     "text": [
      "Python is a programming language that lets you work quickly\nand\nintegrate systems more effectively.\n\n"
     ]
    }
   ],
   "source": [
    "s = \"Python is a programming language that lets you work quickly\\nand\\nintegrate systems more effectively.\\n\"\n",
    "print(s)"
   ]
  },
  {
   "source": [
    "# Unit. 10 리스트와 튜플 사용하기\n",
    "\n",
    "## 1. 리스트\n",
    "### 1. 리스트 만들기\n",
    "`리스트 = [값, 값, 값, ...]`\n",
    "\n",
    "### 2. 리스트에 여러 가지 자료형 저장하기\n",
    "`리스트 = [문자열, 정수, 실수, 불린, ...]`\n",
    "\n",
    "### 3. 빈 리스트 만들기\n",
    "`a = []`\n",
    "`a = list()`\n",
    "\n",
    "### 4. range를 사용하여 리스트 만들기\n",
    "`range(횟수)`   \n",
    "연속된 숫자 생성(0 ~ 횟수 - 1)   \n",
    "`리스트 = list(range(횟수))`   \n",
    "`리스트 = list(range(시작, 끝))`   \n",
    "`리스트 = list(range(시작, 끝, 증가폭))`\n",
    "\n",
    "## 2. 튜플\n",
    "* 안에 저장된 요소를 변경, 추가, 삭제 할 수 없음(읽기 전용 리스트)\n",
    "`튜플 = 값, 값, 값`   \n",
    "`튜플 = (값, 값, 값)`   \n",
    "\n",
    "### 1. 요소가 하나 있는 튜플\n",
    "`튜플 = 값, `   \n",
    "`튜플 = (값, )`\n",
    "\n",
    "### 2. range를 사용하여 튜플 만들기\n",
    "`튜플 = tuple(range(횟수))`   \n",
    "`튜플 = tuple(range(시작, 끝))`   \n",
    "`튜플 = tuple(range(시작, 끝, 증가폭))`   \n",
    "\n",
    "## 연습문제 : range로 리스트 만들기\n",
    "리스트 `[5, 3, 1, -1, -3, -5, -7, -9]`가 출력되게 만드세요.   \n",
    "리스트를 만들 때는 range를 사용"
   ],
   "cell_type": "markdown",
   "metadata": {}
  },
  {
   "cell_type": "code",
   "execution_count": 6,
   "metadata": {},
   "outputs": [
    {
     "output_type": "stream",
     "name": "stdout",
     "text": [
      "[5, 3, 1, -1, -3, -5, -7, -9]\n"
     ]
    }
   ],
   "source": [
    "a = list(range(5, -10, -2))\n",
    "print(a)"
   ]
  },
  {
   "source": [
    "# Unit. 11 시퀀스 자료형 활용하기\n",
    "## 1. 시퀀스 자료형이란?\n",
    "리스트, 튜플, range, 문자열처럼 값이 연속적으로 이어진 자료형\n",
    "\n",
    "## 2. 공통 기능\n",
    "### 1. 특정 값 확인\n",
    "`값 in 시퀀스객체`   \n",
    "`값 not in 시퀀스객체`   \n",
    "\n",
    "### 2. 시퀀스 객체 연결\n",
    "`시퀀스 객체1 + 시퀀스 객체2`   \n",
    "(range는 불가능)\n",
    "\n",
    "### 3. 시퀀스 객체 반복\n",
    "`시퀀스객체 * 정수`   \n",
    "`정수 * 시퀀스객체`   \n",
    "\n",
    "### 4. 요소 개수 구하기\n",
    "`len(시퀀스 객체)`\n",
    "\n",
    "### 5. 인덱스\n",
    "`시퀀스 객체[인덱스]`   \n",
    "* 시퀀스 객체의 인덱스는 항상 **0부터 시작**\n",
    "* 인덱스로 요소에 접근가능\n",
    "* 인덱스를 지정하지 않은 상태는 객체 전체를 의미\n",
    "* 음수 인덱스의 경우 뒤에서부터 접근\n",
    "* 범위를 벗어난경우 오류\n",
    "\n",
    "### 6. 슬라이스\n",
    "`시퀀스객체[시작인덱스:끝인덱스]`   \n",
    "(끝 인덱스는 가져오려는 범위에 포함되지 않음)   \n",
    "(예 : `[0:4]` -> 0~3을 가져옴)   \n",
    "(시작/끝인덱스를 생략한 경우 리스트의 처음/끝을 의미)\n",
    "`시퀀스객체[시작인덱스:끝인덱스:인덱스증가폭]`   \n",
    "\n",
    "## 연습문제 : 최근 3년간 인구 출력하기"
   ],
   "cell_type": "markdown",
   "metadata": {}
  },
  {
   "cell_type": "code",
   "execution_count": 7,
   "metadata": {},
   "outputs": [
    {
     "output_type": "stream",
     "name": "stdout",
     "text": [
      "[2016, 2017, 2018]\n[9930616, 9857426, 9838892]\n"
     ]
    }
   ],
   "source": [
    "year = [2011, 2012, 2013, 2014, 2015, 2016, 2017, 2018]\n",
    "population = [10249679, 10195318, 10143645, 10103233, 10022181, 9930616, 9857426, 9838892]\n",
    " \n",
    "print(year[-3:])\n",
    "print(population[-3:])"
   ]
  },
  {
   "source": [
    "# Unit. 12 딕셔너리 사용하기\n",
    "\n",
    "## 1. 딕셔너리 정의\n",
    "`딕셔너리 = {키1 : 값1, 키2 : 값2, ...}`   \n",
    "`딕셔너리 = dict(키1=값1, 키2=값2, ...)`   \n",
    "`딕셔너리 = {}, 딕셔너리 = dict()` (빈 딕셔너리)   \n",
    "* 키가 중복인 경우 가자 뒤에 있는 값만 사용\n",
    "* 정수, 실수, 불, 문자열, 리스트, 딕셔너리 등 모든 자료형 사용가능\n",
    "\n",
    "## 2. 딕셔너리 사용\n",
    "`딕셔너리[키]` (해당 키에 할당된 값에 접근)   \n",
    "`딕셔너리[키] = 값` (해당 키에 값 할당)   \n",
    "`키 in 딕셔너리, 키 not in 딕셔너리`   \n",
    "`len(딕셔너리)` (딕셔너리의 키 개수)   \n",
    "\n",
    "## 연습문제 : 딕셔너리에 게임 캐릭터 능력치 저장하기\n",
    "* 캐릭터의 체력과 이동속도 출력"
   ],
   "cell_type": "markdown",
   "metadata": {}
  },
  {
   "cell_type": "code",
   "execution_count": 8,
   "metadata": {},
   "outputs": [
    {
     "output_type": "stream",
     "name": "stdout",
     "text": [
      "575.6\n340\n"
     ]
    }
   ],
   "source": [
    "camille = {\n",
    "    'health': 575.6,\n",
    "    'health_regen': 1.7,\n",
    "    'mana': 338.8,\n",
    "    'mana_regen': 1.63,\n",
    "    'melee': 125,\n",
    "    'attack_damage': 60,\n",
    "    'attack_speed': 0.625,\n",
    "    'armor': 26,\n",
    "    'magic_resistance': 32.1,\n",
    "    'movement_speed': 340\n",
    "}\n",
    " \n",
    "print(camille['health'])\n",
    "print(camille['movement_speed'])"
   ]
  }
 ]
}