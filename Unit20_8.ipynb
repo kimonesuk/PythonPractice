{
  "nbformat": 4,
  "nbformat_minor": 0,
  "metadata": {
    "colab": {
      "name": "Unit20_8.ipynb",
      "version": "0.3.2",
      "provenance": [],
      "include_colab_link": true
    },
    "kernelspec": {
      "name": "python3",
      "display_name": "Python 3"
    }
  },
  "cells": [
    {
      "cell_type": "markdown",
      "metadata": {
        "id": "view-in-github",
        "colab_type": "text"
      },
      "source": [
        "<a href=\"https://colab.research.google.com/github/kimonesuk/pythondojang/blob/master/Unit20_8.ipynb\" target=\"_parent\"><img src=\"https://colab.research.google.com/assets/colab-badge.svg\" alt=\"Open In Colab\"/></a>"
      ]
    },
    {
      "metadata": {
        "id": "yN9KrLdBXfd2",
        "colab_type": "code",
        "colab": {
          "base_uri": "https://localhost:8080/",
          "height": 143
        },
        "outputId": "b488c608-f0d8-47dd-d875-5fb53ce9fe0c"
      },
      "cell_type": "code",
      "source": [
        "start, end = map(int, input().split())\n",
        "for i in range(start,end+1):\n",
        "  if i % 5 == 0 and i % 7 == 0:\n",
        "    print('FizzBuzz')\n",
        "  elif i % 5 == 0:\n",
        "    print('Fizz')\n",
        "  elif i % 7 == 0:\n",
        "    print('Buzz')\n",
        "  else:\n",
        "    print(i)"
      ],
      "execution_count": 2,
      "outputs": [
        {
          "output_type": "stream",
          "text": [
            "35 40\n",
            "FizzBuzz\n",
            "36\n",
            "37\n",
            "38\n",
            "39\n",
            "Fizz\n"
          ],
          "name": "stdout"
        }
      ]
    }
  ]
}