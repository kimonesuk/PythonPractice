{
  "nbformat": 4,
  "nbformat_minor": 0,
  "metadata": {
    "colab": {
      "name": "핵심정리.ipynb",
      "version": "0.3.2",
      "provenance": [],
      "include_colab_link": true
    },
    "kernelspec": {
      "name": "python3",
      "display_name": "Python 3"
    }
  },
  "cells": [
    {
      "cell_type": "markdown",
      "metadata": {
        "id": "view-in-github",
        "colab_type": "text"
      },
      "source": [
        "<a href=\"https://colab.research.google.com/github/kimonesuk/pythondojang/blob/master/%ED%95%B5%EC%8B%AC%EC%A0%95%EB%A6%AC.ipynb\" target=\"_parent\"><img src=\"https://colab.research.google.com/assets/colab-badge.svg\" alt=\"Open In Colab\"/></a>"
      ]
    },
    {
      "metadata": {
        "id": "bv-ldws5VRwS",
        "colab_type": "code",
        "colab": {}
      },
      "cell_type": "code",
      "source": [
        "#Unit 1~7 핵심정리\n",
        "#https://dojang.io/mod/page/view.php?id=2189\n",
        "\n",
        "#Unit 8~12 핵심정리\n",
        "#https://dojang.io/mod/page/view.php?id=2218\n",
        "\n",
        "#"
      ],
      "execution_count": 0,
      "outputs": []
    }
  ]
}