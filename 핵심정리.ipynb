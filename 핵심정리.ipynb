{
  "nbformat": 4,
  "nbformat_minor": 0,
  "metadata": {
    "colab": {
      "name": "핵심정리.ipynb",
      "version": "0.3.2",
      "provenance": [],
      "include_colab_link": true
    },
    "kernelspec": {
      "name": "python3",
      "display_name": "Python 3"
    }
  },
  "cells": [
    {
      "metadata": {
        "id": "oGPg5p0dIy7Q",
        "colab_type": "text"
      },
      "cell_type": "markdown",
      "source": [
        "# <필요한 부분 찾아보기>\n",
        "\n",
        "**Unit 1~7 핵심정리** : 변수 생성, 산술연산자, 사용자 입력\n",
        "\n",
        "https://dojang.io/mod/page/view.php?id=2189\n",
        "\n",
        "**Unit 8~12 핵심정리** : 불, 비교/논리연산자, 시퀀스자료형(리스트, 듀플, 딕셔너리)\n",
        "\n",
        "https://dojang.io/mod/page/view.php?id=2218\n",
        "\n",
        "**Unit 13~15 핵심정리** : IF 조건문\n",
        "\n",
        "https://dojang.io/mod/page/view.php?id=2239\n",
        "\n",
        "**Unit 16~21 핵심정리** : For, While, Break, Continue\n",
        "\n",
        "https://dojang.io/mod/page/view.php?id=2279\n",
        "\n",
        "**Unit 22~24 핵심정리** : 리스트/듀플 응용, 문자열 메서드, 문자열 서식 지정자, 문자열 포매팅, 서식 지정자 자료형\n",
        "\n",
        "https://dojang.io/mod/page/view.php?id=2305\n",
        "\n",
        "**Unit 25~26 핵심정리** : 딕셔너리 응용, 세트(집합)\n",
        "\n",
        "https://dojang.io/mod/page/view.php?id=2323\n",
        "\n",
        "**Unit 27~28 핵심정리** : 파일 관리, 회문, N-gram\n",
        "\n",
        "https://dojang.io/mod/page/view.php?id=2335\n",
        "\n",
        "**Unit 29~31 핵심정리** : 함수\n",
        "\n",
        "https://dojang.io/mod/page/view.php?id=2357\n",
        "\n",
        "**Unit 32~33 핵심정리** : 람다표현식, 클로저\n",
        "\n",
        "https://dojang.io/mod/page/view.php?id=2370\n",
        "\n",
        "**Unit 34~37 핵심정리** : 클래스\n",
        "\n",
        "https://dojang.io/mod/page/view.php?id=2396\n",
        "\n",
        "**Unit 38~41 핵심정리** : 예외처리, 이터레이터, 제너레이터, 코루틴\n",
        "\n",
        "https://dojang.io/mod/page/view.php?id=2425\n",
        "\n",
        "**Unit 42~45 핵심정리** : 데코레이터, 정규표현식, 모듈과 패키지\n",
        "\n",
        "https://dojang.io/mod/page/view.php?id=2454"
      ]
    }
  ]
}