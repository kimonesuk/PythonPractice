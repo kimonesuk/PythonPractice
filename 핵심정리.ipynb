{
  "nbformat": 4,
  "nbformat_minor": 0,
  "metadata": {
    "colab": {
      "name": "핵심정리.ipynb",
      "version": "0.3.2",
      "provenance": [],
      "include_colab_link": true
    },
    "kernelspec": {
      "name": "python3",
      "display_name": "Python 3"
    }
  },
  "cells": [
    {
      "cell_type": "markdown",
      "metadata": {
        "id": "view-in-github",
        "colab_type": "text"
      },
      "source": [
        "<a href=\"https://colab.research.google.com/github/kimonesuk/pythondojang/blob/master/%ED%95%B5%EC%8B%AC%EC%A0%95%EB%A6%AC.ipynb\" target=\"_parent\"><img src=\"https://colab.research.google.com/assets/colab-badge.svg\" alt=\"Open In Colab\"/></a>"
      ]
    },
    {
      "metadata": {
        "id": "oGPg5p0dIy7Q",
        "colab_type": "text"
      },
      "cell_type": "markdown",
      "source": [
        "**Unit 1~7 핵심정리**\n",
        "https://dojang.io/mod/page/view.php?id=2189\n",
        "\n",
        "**Unit 8~12 핵심정리**\n",
        "https://dojang.io/mod/page/view.php?id=2218\n",
        "\n",
        "**Unit 13~15 핵심정리**\n",
        "https://dojang.io/mod/page/view.php?id=2239\n",
        "\n",
        "**Unit 16~21 핵심정리**\n",
        "https://dojang.io/mod/page/view.php?id=2279\n",
        "\n",
        "**Unit 22~24 핵심정리**\n",
        "https://dojang.io/mod/page/view.php?id=2305\n",
        "\n",
        "**Unit 25~26 핵심정리**\n",
        "https://dojang.io/mod/page/view.php?id=2323\n",
        "\n",
        "**Unit 27~28 핵심정리**\n",
        "https://dojang.io/mod/page/view.php?id=2335\n",
        "\n",
        "**Unit 29~31 핵심정리**\n",
        "https://dojang.io/mod/page/view.php?id=2357\n",
        "\n",
        "**Unit 32~33 핵심정리**\n",
        "https://dojang.io/mod/page/view.php?id=2370\n",
        "\n",
        "**Unit 34~37 핵심정리**\n",
        "https://dojang.io/mod/page/view.php?id=2396\n",
        "\n",
        "**Unit 38~41 핵심정리**\n",
        "https://dojang.io/mod/page/view.php?id=2425\n",
        "\n",
        "**Unit 42~45 핵심정리**\n",
        "https://dojang.io/mod/page/view.php?id=2454"
      ]
    }
  ]
}